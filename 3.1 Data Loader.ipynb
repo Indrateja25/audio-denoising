{
 "cells": [
  {
   "cell_type": "code",
   "execution_count": 3,
   "id": "a2b4c3c9",
   "metadata": {},
   "outputs": [],
   "source": [
    "import numpy as np\n",
    "import pandas as pd\n",
    "import os\n",
    "import random\n",
    "import librosa as libr\n",
    "import librosa.display as disp\n",
    "from IPython.display import Audio"
   ]
  },
  {
   "cell_type": "code",
   "execution_count": 2,
   "id": "6d16851d",
   "metadata": {
    "scrolled": true
   },
   "outputs": [],
   "source": [
    "import torch\n",
    "from torch import nn\n",
    "from torch.utils.data import Dataset\n",
    "from torchvision.transforms import ToTensor\n",
    "import torchaudio\n",
    "import torch.nn.functional as F\n",
    "from torch.utils.data import SubsetRandomSampler,Subset,DataLoader"
   ]
  },
  {
   "cell_type": "code",
   "execution_count": 4,
   "id": "0201b60f",
   "metadata": {},
   "outputs": [],
   "source": [
    "import matplotlib.pyplot as plt\n",
    "import warnings\n",
    "warnings.filterwarnings('ignore')"
   ]
  },
  {
   "cell_type": "code",
   "execution_count": 5,
   "id": "f6b89d3d",
   "metadata": {},
   "outputs": [],
   "source": [
    "data_path = \"./../data/28/\"\n",
    "#train_noisy_data_path = \"./../data/28/noisy_trainset_28spk_wav/\"\n",
    "train_noisy_data_path = \"./../data/28/sample/11/\"\n",
    "train_clean_data_path = \"./../data/28/clean_trainset_28spk_wav/\"\n",
    "#test_noisy_data_path = \"./../data/28/noisy_testset_wav/\"\n",
    "test_noisy_data_path = \"./../data/28/sample/21/\"\n",
    "test_clean_data_path = \"./../data/28/clean_testset_wav/\""
   ]
  },
  {
   "cell_type": "code",
   "execution_count": null,
   "id": "fe920211",
   "metadata": {},
   "outputs": [],
   "source": []
  },
  {
   "cell_type": "code",
   "execution_count": null,
   "id": "0466791e",
   "metadata": {},
   "outputs": [],
   "source": []
  },
  {
   "cell_type": "code",
   "execution_count": null,
   "id": "b1a67cd4",
   "metadata": {},
   "outputs": [],
   "source": []
  },
  {
   "cell_type": "code",
   "execution_count": null,
   "id": "0c38bcd5",
   "metadata": {},
   "outputs": [],
   "source": []
  },
  {
   "cell_type": "code",
   "execution_count": null,
   "id": "9a4f18e2",
   "metadata": {},
   "outputs": [],
   "source": [
    "def load_data(directory_path):\n",
    "    all_items = os.listdir(directory_path)\n",
    "    files = [item for item in all_items if os.path.isfile(os.path.join(directory_path, item))]\n",
    "    data = {'Filepath': [os.path.join(directory_path, file_name) for file_name in files]}\n",
    "    df = pd.DataFrame(data)\n",
    "    return df"
   ]
  },
  {
   "cell_type": "code",
   "execution_count": null,
   "id": "e4fb8a3c",
   "metadata": {
    "scrolled": true
   },
   "outputs": [],
   "source": [
    "load_data(train_noisy_data_path).shape"
   ]
  },
  {
   "cell_type": "code",
   "execution_count": null,
   "id": "3825b603",
   "metadata": {},
   "outputs": [],
   "source": [
    "load_data(train_clean_data_path).shape"
   ]
  },
  {
   "cell_type": "code",
   "execution_count": null,
   "id": "731748e7",
   "metadata": {},
   "outputs": [],
   "source": [
    "load_data(test_noisy_data_path).shape"
   ]
  },
  {
   "cell_type": "code",
   "execution_count": null,
   "id": "625e4d0c",
   "metadata": {},
   "outputs": [],
   "source": [
    "load_data(test_clean_data_path).shape"
   ]
  },
  {
   "cell_type": "code",
   "execution_count": null,
   "id": "752074b0",
   "metadata": {},
   "outputs": [],
   "source": [
    "def build_mfcc_spectograms(audio_file_path,n_coeffs = 15,n_fft = 2048,hop_len = 512):\n",
    "    signal, sample_rate = libr.load(audio_file_path) #sr=22050\n",
    "    mfcc = libr.feature.mfcc(y=signal,n_fft=n_fft, hop_length=hop_len, n_mfcc=n_coeffs)\n",
    "    return libr.get_duration(y=signal, sr=sample_rate)"
   ]
  },
  {
   "cell_type": "code",
   "execution_count": null,
   "id": "5d04eb6f",
   "metadata": {},
   "outputs": [],
   "source": [
    "a = load_data(test_clean_data_path)['Filepath'].apply(build_mfcc_spectograms)\n",
    "a"
   ]
  },
  {
   "cell_type": "code",
   "execution_count": null,
   "id": "c559ac57",
   "metadata": {},
   "outputs": [],
   "source": [
    "a.max() #Max-duration"
   ]
  },
  {
   "cell_type": "code",
   "execution_count": null,
   "id": "934a0779",
   "metadata": {},
   "outputs": [],
   "source": []
  },
  {
   "cell_type": "code",
   "execution_count": null,
   "id": "cadfd8a9",
   "metadata": {},
   "outputs": [],
   "source": []
  },
  {
   "cell_type": "code",
   "execution_count": null,
   "id": "e91a6e92",
   "metadata": {},
   "outputs": [],
   "source": []
  },
  {
   "cell_type": "code",
   "execution_count": null,
   "id": "f57340da",
   "metadata": {},
   "outputs": [],
   "source": [
    "train_noisy_data_path = \"./../data/28/noisy_trainset_28spk_wav/\"\n",
    "train_clean_data_path = \"./../data/28/clean_trainset_28spk_wav/\"\n",
    "test_noisy_data_path = \"./../data/28/noisy_testset_wav/\"\n",
    "test_clean_data_path = \"./../data/28/clean_testset_wav/\""
   ]
  },
  {
   "cell_type": "code",
   "execution_count": null,
   "id": "849c80d6",
   "metadata": {},
   "outputs": [],
   "source": [
    "config = {\n",
    "    'sample_rate':48000,\n",
    "    'max_duration':10,\n",
    "    'n_fft':1024,\n",
    "    'hop_length':512,\n",
    "    'n_mels':64,\n",
    "    'batch_size':128,\n",
    "    'learning_rate':1e-6,\n",
    "    'epochs':10\n",
    "}"
   ]
  },
  {
   "cell_type": "code",
   "execution_count": null,
   "id": "a1214321",
   "metadata": {},
   "outputs": [],
   "source": [
    "class AudioDataset(Dataset):\n",
    "    def __init__(self,noisy_path,clean_path, transform=None, sample_rate=None,max_duration=None):\n",
    "        \n",
    "        #get file paths\n",
    "        noisy_all_items = os.listdir(noisy_path)\n",
    "        noisy_files = [item for item in noisy_all_items if os.path.isfile(os.path.join(noisy_path, item))]\n",
    "        noisy_file_paths = [os.path.join(noisy_path, file_name) for file_name in noisy_files]\n",
    "        clean_file_paths = [os.path.join(clean_path, file_name) for file_name in noisy_files]\n",
    "\n",
    "        #initialize variables\n",
    "        self.noisy_data = noisy_file_paths\n",
    "        self.clean_data = clean_file_paths\n",
    "        self.transform = transform\n",
    "        self.sample_rate = sample_rate\n",
    "        self.max_duration = max_duration\n",
    "        self.num_samples = sample_rate*max_duration\n",
    "\n",
    "    def __len__(self):\n",
    "        return len(self.noisy_data)\n",
    "\n",
    "    def __getitem__(self, idx):\n",
    "        noisy_waveform, sr = torchaudio.load(self.noisy_data[idx])  \n",
    "        noisy_waveform = noisy_waveform.numpy().reshape(-1)\n",
    "        if noisy_waveform.shape[0] < self.num_samples:\n",
    "            num_missing_samples = self.num_samples - noisy_waveform.shape[0]\n",
    "            noisy_waveform = F.pad(torch.tensor(noisy_waveform), (0, num_missing_samples))\n",
    "        noisy_waveform = noisy_waveform[:self.num_samples]\n",
    "        if self.transform:\n",
    "            noisy_waveform = self.transform(noisy_waveform)\n",
    "            \n",
    "        clean_waveform, sr = torchaudio.load(self.clean_data[idx])  \n",
    "        clean_waveform = clean_waveform.numpy().reshape(-1)\n",
    "        if clean_waveform.shape[0] < self.num_samples:\n",
    "            num_missing_samples = self.num_samples - clean_waveform.shape[0]\n",
    "            clean_waveform = F.pad(torch.tensor(clean_waveform), (0, num_missing_samples))\n",
    "        clean_waveform = clean_waveform[:self.num_samples]\n",
    "        if self.transform:\n",
    "            clean_waveform = self.transform(clean_waveform)\n",
    "        print(type(noisy_waveform))\n",
    "        return noisy_waveform, clean_waveform\n",
    "\n",
    "\n",
    "    def plot_waveform(self,noisy_waveform,clean_waveform):\n",
    "        noisy_waveform = noisy_waveform.numpy().reshape(-1)\n",
    "        clean_waveform = clean_waveform.numpy().reshape(-1)\n",
    "        plt.figure(figsize=(8,5))\n",
    "        plt.xlabel(\"Time\")\n",
    "        plt.ylabel(\"Amplitude\")\n",
    "        plt.title(\"Noisy vs Filtered Signal - Time Domain\")\n",
    "        disp.waveshow(noisy_waveform,sr=self.sample_rate,label=\"Noisy\")\n",
    "        disp.waveshow(clean_waveform,sr=self.sample_rate,label=\"Clean\")\n",
    "        plt.legend()\n",
    "        plt.show()\n",
    "        "
   ]
  },
  {
   "cell_type": "code",
   "execution_count": null,
   "id": "8a0f05f0",
   "metadata": {},
   "outputs": [],
   "source": [
    "dataset = AudioDataset(noisy_path=train_noisy_data_path,\n",
    "                       clean_path=train_clean_data_path,\n",
    "                       sample_rate=config['sample_rate'],\n",
    "                       max_duration=config['max_duration'])\n",
    "dataset"
   ]
  },
  {
   "cell_type": "code",
   "execution_count": null,
   "id": "31f440be",
   "metadata": {
    "scrolled": true
   },
   "outputs": [],
   "source": [
    "len(dataset)"
   ]
  },
  {
   "cell_type": "code",
   "execution_count": null,
   "id": "0a1feee7",
   "metadata": {},
   "outputs": [],
   "source": [
    "idx = 500\n",
    "x,y = dataset[idx]\n",
    "dataset.plot_waveform(x,y)"
   ]
  },
  {
   "cell_type": "code",
   "execution_count": null,
   "id": "43900440",
   "metadata": {},
   "outputs": [],
   "source": [
    "x.shape,y.shape"
   ]
  },
  {
   "cell_type": "code",
   "execution_count": null,
   "id": "74e2d44d",
   "metadata": {},
   "outputs": [],
   "source": [
    "x[0]"
   ]
  },
  {
   "cell_type": "code",
   "execution_count": null,
   "id": "60f06ec0",
   "metadata": {},
   "outputs": [],
   "source": []
  },
  {
   "cell_type": "code",
   "execution_count": null,
   "id": "26ef3c57",
   "metadata": {},
   "outputs": [],
   "source": []
  },
  {
   "cell_type": "code",
   "execution_count": null,
   "id": "be8117b0",
   "metadata": {},
   "outputs": [],
   "source": [
    "c,x = torchaudio.load('./../data/28/noisy_trainset_28spk_wav/p250_342.wav')   \n",
    "c = c.numpy().reshape(-1)\n",
    "c.shape,x"
   ]
  },
  {
   "cell_type": "code",
   "execution_count": null,
   "id": "e80b1b64",
   "metadata": {},
   "outputs": [],
   "source": [
    "if c.shape[0] > 1:\n",
    "    c = c[:480000]\n",
    "c.shape"
   ]
  },
  {
   "cell_type": "code",
   "execution_count": null,
   "id": "7006ca43",
   "metadata": {},
   "outputs": [],
   "source": [
    "if noisy_waveform.shape[1] > self.num_samples:\n",
    "        noisy_waveform = noisy_waveform[:, :self.num_samples]\n",
    "    if noisy_waveform.shape[1] < self.num_samples:\n",
    "        num_missing_samples = self.num_samples - noisy_waveform.shape[1]\n",
    "        noisy_waveform = F.pad(noisy_waveform, (0, num_missing_samples))\n",
    "    if self.transform:\n",
    "        noisy_waveform = self.transform(noisy_waveform)"
   ]
  },
  {
   "cell_type": "code",
   "execution_count": null,
   "id": "82dda455",
   "metadata": {},
   "outputs": [],
   "source": []
  },
  {
   "cell_type": "code",
   "execution_count": null,
   "id": "f05e80c4",
   "metadata": {},
   "outputs": [],
   "source": [
    "mel_spectrogram = torchaudio.transforms.MelSpectrogram(sample_rate=config['sample_rate'],\n",
    "                                                      n_fft=config['n_fft'], \n",
    "                                                      hop_length=config['hop_length'], \n",
    "                                                      n_mels=config['n_mels'])"
   ]
  },
  {
   "cell_type": "code",
   "execution_count": null,
   "id": "68e3eaef",
   "metadata": {},
   "outputs": [],
   "source": [
    "train_dataset = AudioDataset(noisy_path=train_noisy_data_path,\n",
    "                       clean_path=train_clean_data_path,\n",
    "                       sample_rate=config['sample_rate'],\n",
    "                       max_duration=config['max_duration'],\n",
    "                       transform=mel_spectrogram)\n",
    "test_dataset = AudioDataset(noisy_path=test_noisy_data_path,\n",
    "                       clean_path=test_clean_data_path,\n",
    "                       sample_rate=config['sample_rate'],\n",
    "                       max_duration=config['max_duration'],\n",
    "                       transform=mel_spectrogram)"
   ]
  },
  {
   "cell_type": "code",
   "execution_count": null,
   "id": "7a7d8957",
   "metadata": {},
   "outputs": [],
   "source": []
  },
  {
   "cell_type": "code",
   "execution_count": null,
   "id": "e5d7c95b",
   "metadata": {},
   "outputs": [],
   "source": [
    "len(train_dataset),len(test_dataset)"
   ]
  },
  {
   "cell_type": "code",
   "execution_count": null,
   "id": "bfe69c20",
   "metadata": {},
   "outputs": [],
   "source": [
    "idx = 1000\n",
    "train_dataset[idx][0].shape,train_dataset[idx][1].shape"
   ]
  },
  {
   "cell_type": "code",
   "execution_count": null,
   "id": "25392905",
   "metadata": {},
   "outputs": [],
   "source": [
    "idx = 100\n",
    "test_dataset[idx][0].shape,test_dataset[idx][1].shape"
   ]
  },
  {
   "cell_type": "code",
   "execution_count": null,
   "id": "cdaf2347",
   "metadata": {},
   "outputs": [],
   "source": []
  },
  {
   "cell_type": "code",
   "execution_count": null,
   "id": "50995b83",
   "metadata": {},
   "outputs": [],
   "source": [
    "def split_dataset(dataset, perc=0.9):\n",
    "    dataset_indices = list(range(len(dataset)))\n",
    "    random.shuffle(dataset_indices)\n",
    "    train_indices = dataset_indices[:int(len(dataset_indices) * perc)]\n",
    "    val_indices = dataset_indices[int(len(dataset_indices) * perc):]\n",
    "    train_dataset = Subset(dataset, train_indices)\n",
    "    val_dataset = Subset(dataset, val_indices)\n",
    "    return train_dataset,val_dataset"
   ]
  },
  {
   "cell_type": "code",
   "execution_count": null,
   "id": "e124e844",
   "metadata": {},
   "outputs": [],
   "source": [
    "def print_all_grad_fns(grad_fn):\n",
    "    while grad_fn is not None:\n",
    "        print(grad_fn)\n",
    "        if hasattr(grad_fn, 'next_functions'):\n",
    "            for next_function in grad_fn.next_functions:\n",
    "                print_all_grad_fns(next_function[0])\n",
    "        grad_fn = grad_fn.next_functions[0][0]"
   ]
  },
  {
   "cell_type": "code",
   "execution_count": null,
   "id": "34533dd7",
   "metadata": {},
   "outputs": [],
   "source": [
    "train_dataset, val_dataset = split_dataset(train_dataset,0.9)"
   ]
  },
  {
   "cell_type": "code",
   "execution_count": null,
   "id": "fbbb7641",
   "metadata": {},
   "outputs": [],
   "source": [
    "len(train_dataset),len(val_dataset),len(test_dataset)"
   ]
  },
  {
   "cell_type": "code",
   "execution_count": null,
   "id": "8de8a588",
   "metadata": {
    "scrolled": true
   },
   "outputs": [],
   "source": [
    "idx = 100\n",
    "val_dataset[idx][0].shape,val_dataset[idx][1].shape"
   ]
  },
  {
   "cell_type": "code",
   "execution_count": null,
   "id": "f9076f09",
   "metadata": {},
   "outputs": [],
   "source": [
    "batch_size = 64"
   ]
  },
  {
   "cell_type": "code",
   "execution_count": null,
   "id": "066e4b19",
   "metadata": {},
   "outputs": [],
   "source": [
    "train_dataloader = DataLoader(train_dataset, batch_size=batch_size, shuffle=False)\n",
    "val_dataloader = DataLoader(val_dataset, batch_size=batch_size, shuffle=False)\n",
    "test_dataloader = DataLoader(test_dataset, batch_size=batch_size, shuffle=False)"
   ]
  },
  {
   "cell_type": "code",
   "execution_count": null,
   "id": "c0409752",
   "metadata": {},
   "outputs": [],
   "source": [
    "for X, y in test_dataloader:\n",
    "    print(f\"Shape of X [N, C, H, W]: {X.shape}\")\n",
    "    print(f\"Shape of y: {y.shape} {y.dtype}\")\n",
    "    break"
   ]
  },
  {
   "cell_type": "code",
   "execution_count": null,
   "id": "d351781d",
   "metadata": {},
   "outputs": [],
   "source": [
    "for X, y in val_dataloader:\n",
    "    print(f\"Shape of X [N, C, H, W]: {X.shape}\")\n",
    "    print(f\"Shape of y: {y.shape} {y.dtype}\")\n",
    "    break"
   ]
  },
  {
   "cell_type": "code",
   "execution_count": null,
   "id": "7ffefad0",
   "metadata": {},
   "outputs": [],
   "source": [
    "device = (\n",
    "    \"cuda\"\n",
    "    if torch.cuda.is_available()\n",
    "    else \"mps\"\n",
    "    if torch.backends.mps.is_available()\n",
    "    else \"cpu\"\n",
    ")\n",
    "print(f\"Using {device} device\")"
   ]
  },
  {
   "cell_type": "code",
   "execution_count": null,
   "id": "2302d2b1",
   "metadata": {},
   "outputs": [],
   "source": [
    "class NeuralNetwork(nn.Module):\n",
    "    def __init__(self, input_shape, output_shape):\n",
    "        super().__init__()\n",
    "        self.flatten = nn.Flatten()\n",
    "        self.linear_relu_stack = nn.Sequential(\n",
    "            nn.Linear(input_shape,512),\n",
    "            nn.ReLU(),\n",
    "            nn.Linear(512, 512),\n",
    "            nn.ReLU(),\n",
    "            nn.Linear(512,output_shape)\n",
    "        )\n",
    "\n",
    "    def forward(self, x):\n",
    "        x = self.flatten(x)\n",
    "        print(x.shape)\n",
    "        logits = self.linear_relu_stack(x)\n",
    "        return logits"
   ]
  },
  {
   "cell_type": "code",
   "execution_count": null,
   "id": "f5b9eb8f",
   "metadata": {},
   "outputs": [],
   "source": [
    "model = NeuralNetwork(input_shape=60032,output_shape=60032).to(device)\n",
    "print(model)"
   ]
  },
  {
   "cell_type": "code",
   "execution_count": null,
   "id": "3331ee98",
   "metadata": {},
   "outputs": [],
   "source": [
    "learning_rate = 1e-3\n",
    "epochs = 5"
   ]
  },
  {
   "cell_type": "code",
   "execution_count": null,
   "id": "b62317c6",
   "metadata": {},
   "outputs": [],
   "source": [
    "loss_fn = nn.MSELoss()\n",
    "optimizer = torch.optim.Adam(model.parameters(), lr=learning_rate)"
   ]
  },
  {
   "cell_type": "code",
   "execution_count": null,
   "id": "e1d3d3e1",
   "metadata": {},
   "outputs": [],
   "source": []
  },
  {
   "cell_type": "code",
   "execution_count": null,
   "id": "7d6aa1a7",
   "metadata": {},
   "outputs": [],
   "source": [
    "def train_loop(dataloader, model, loss_fn, optimizer):\n",
    "    size = len(dataloader.dataset)\n",
    "    # Set the model to training mode - important for batch normalization and dropout layers\n",
    "    # Unnecessary in this situation but added for best practices\n",
    "    model.train()\n",
    "    for batch, (X, y) in enumerate(dataloader):\n",
    "        print(X.shape) \n",
    "        # Compute prediction and loss\n",
    "        pred = model(X)\n",
    "        loss = loss_fn(pred, y)\n",
    "        print_all_grad_fns(loss.grad_fn)\n",
    "        # Backpropagation\n",
    "        loss.backward()\n",
    "        optimizer.step()\n",
    "        optimizer.zero_grad()\n",
    "\n",
    "        if batch % 100 == 0:\n",
    "            loss, current = loss.item(), (batch + 1) * len(X)\n",
    "            print(f\"loss: {loss:>7f}  [{current:>5d}/{size:>5d}]\")\n",
    "    \n"
   ]
  },
  {
   "cell_type": "code",
   "execution_count": null,
   "id": "04e533c6",
   "metadata": {},
   "outputs": [],
   "source": [
    "def test_loop(dataloader, model, loss_fn):\n",
    "    # Set the model to evaluation mode - important for batch normalization and dropout layers\n",
    "    # Unnecessary in this situation but added for best practices\n",
    "    model.eval()\n",
    "    size = len(dataloader.dataset)\n",
    "    num_batches = len(dataloader)\n",
    "    test_loss, correct = 0, 0\n",
    "\n",
    "    # Evaluating the model with torch.no_grad() ensures that no gradients are computed during test mode\n",
    "    # also serves to reduce unnecessary gradient computations and memory usage for tensors with requires_grad=True\n",
    "    with torch.no_grad():\n",
    "        for X, y in dataloader:\n",
    "            pred = model(X)\n",
    "            test_loss += loss_fn(pred, y).item()\n",
    "            correct += (pred.argmax(1) == y).type(torch.float).sum().item()\n",
    "\n",
    "    test_loss /= num_batches\n",
    "    correct /= size\n",
    "    print(f\"Test Error: \\n Accuracy: {(100*correct):>0.1f}%, Avg loss: {test_loss:>8f} \\n\")\n"
   ]
  },
  {
   "cell_type": "code",
   "execution_count": null,
   "id": "8b50e1e4",
   "metadata": {},
   "outputs": [],
   "source": [
    "epochs = 10\n",
    "for t in range(epochs):\n",
    "    print(f\"Epoch {t+1}\\n-------------------------------\")\n",
    "    model.to(device)\n",
    "    train_dataloader = train_dataloader.to(device)\n",
    "    test_dataloader = test_dataloader.to(device)\n",
    "    train_loop(train_dataloader, model, loss_fn, optimizer)\n",
    "    test_loop(test_dataloader, model, loss_fn)\n",
    "print(\"Done!\")"
   ]
  },
  {
   "cell_type": "code",
   "execution_count": null,
   "id": "3cb53c90",
   "metadata": {},
   "outputs": [],
   "source": [
    "model.to(device)\n",
    "data = data.to(device)"
   ]
  },
  {
   "cell_type": "code",
   "execution_count": null,
   "id": "14e68382",
   "metadata": {},
   "outputs": [],
   "source": []
  }
 ],
 "metadata": {
  "hide_input": false,
  "kernelspec": {
   "display_name": "Python 3 (ipykernel)",
   "language": "python",
   "name": "python3"
  },
  "language_info": {
   "codemirror_mode": {
    "name": "ipython",
    "version": 3
   },
   "file_extension": ".py",
   "mimetype": "text/x-python",
   "name": "python",
   "nbconvert_exporter": "python",
   "pygments_lexer": "ipython3",
   "version": "3.9.18"
  },
  "latex_envs": {
   "LaTeX_envs_menu_present": true,
   "autoclose": false,
   "autocomplete": true,
   "bibliofile": "biblio.bib",
   "cite_by": "apalike",
   "current_citInitial": 1,
   "eqLabelWithNumbers": true,
   "eqNumInitial": 1,
   "hotkeys": {
    "equation": "Ctrl-E",
    "itemize": "Ctrl-I"
   },
   "labels_anchors": false,
   "latex_user_defs": false,
   "report_style_numbering": false,
   "user_envs_cfg": false
  },
  "toc": {
   "base_numbering": 1,
   "nav_menu": {},
   "number_sections": true,
   "sideBar": true,
   "skip_h1_title": false,
   "title_cell": "Table of Contents",
   "title_sidebar": "Contents",
   "toc_cell": false,
   "toc_position": {},
   "toc_section_display": true,
   "toc_window_display": false
  },
  "varInspector": {
   "cols": {
    "lenName": 16,
    "lenType": 16,
    "lenVar": 40
   },
   "kernels_config": {
    "python": {
     "delete_cmd_postfix": "",
     "delete_cmd_prefix": "del ",
     "library": "var_list.py",
     "varRefreshCmd": "print(var_dic_list())"
    },
    "r": {
     "delete_cmd_postfix": ") ",
     "delete_cmd_prefix": "rm(",
     "library": "var_list.r",
     "varRefreshCmd": "cat(var_dic_list()) "
    }
   },
   "types_to_exclude": [
    "module",
    "function",
    "builtin_function_or_method",
    "instance",
    "_Feature"
   ],
   "window_display": false
  }
 },
 "nbformat": 4,
 "nbformat_minor": 5
}
