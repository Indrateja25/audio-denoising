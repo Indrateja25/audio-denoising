{
 "cells": [
  {
   "cell_type": "code",
   "execution_count": 1,
   "id": "48699210",
   "metadata": {},
   "outputs": [
    {
     "name": "stdout",
     "output_type": "stream",
     "text": [
      "Intel MKL WARNING: Support of Intel(R) Streaming SIMD Extensions 4.2 (Intel(R) SSE4.2) enabled only processors has been deprecated. Intel oneAPI Math Kernel Library 2025.0 will require Intel(R) Advanced Vector Extensions (Intel(R) AVX) instructions.\n",
      "Intel MKL WARNING: Support of Intel(R) Streaming SIMD Extensions 4.2 (Intel(R) SSE4.2) enabled only processors has been deprecated. Intel oneAPI Math Kernel Library 2025.0 will require Intel(R) Advanced Vector Extensions (Intel(R) AVX) instructions.\n"
     ]
    }
   ],
   "source": [
    "import torch\n",
    "import torch.nn as nn"
   ]
  },
  {
   "cell_type": "code",
   "execution_count": 2,
   "id": "5f602435",
   "metadata": {},
   "outputs": [],
   "source": [
    "import matplotlib.pyplot as plt\n",
    "import torch.optim as optim\n",
    "from torch.autograd import Variable\n",
    "import torch.nn.functional as F\n",
    "from torchsummary import summary"
   ]
  },
  {
   "cell_type": "code",
   "execution_count": 3,
   "id": "8957a4df",
   "metadata": {},
   "outputs": [],
   "source": [
    "import torch.nn as nn\n",
    "import torch.nn.functional as F\n",
    "import torch"
   ]
  },
  {
   "cell_type": "code",
   "execution_count": null,
   "id": "9cbf00b4",
   "metadata": {},
   "outputs": [],
   "source": []
  },
  {
   "cell_type": "markdown",
   "id": "19fada09",
   "metadata": {},
   "source": [
    "https://www.youtube.com/watch?v=IKOHHItzukk&ab_channel=deeplizard"
   ]
  },
  {
   "cell_type": "code",
   "execution_count": null,
   "id": "71251b90",
   "metadata": {},
   "outputs": [],
   "source": []
  },
  {
   "cell_type": "code",
   "execution_count": null,
   "id": "3033bfbf",
   "metadata": {},
   "outputs": [],
   "source": [
    "class NNModel(nn.Module):\n",
    "    def __init__(self):\n",
    "        super(NNModel,self).__init__()\n",
    "        self.conv1 = nn.Sequential(\n",
    "            nn.Conv2d(in_channels=3, out_channels=16, kernel_size=3),\n",
    "            nn.ReLU(),\n",
    "            nn.MaxPool2d(2, 2,return_indices=True)\n",
    "        )\n",
    "        \n",
    "        self.conv2 = nn.Sequential(\n",
    "            nn.Conv2d(in_channels=16, out_channels=32, kernel_size=3),\n",
    "            nn.ReLU(),\n",
    "            nn.MaxPool2d(2, 2,return_indices=True)\n",
    "        )\n",
    "        \n",
    "        self.conv3 = nn.Sequential(\n",
    "            nn.Conv2d(in_channels=32, out_channels=64, kernel_size=3),\n",
    "            nn.ReLU(),\n",
    "            nn.MaxPool2d(2, 2,return_indices=True)\n",
    "        )\n",
    "        \n",
    "        self.fc1 = nn.Sequential(\n",
    "            nn.Flatten(start_dim=1),\n",
    "            nn.Linear(in_features=64,out_features=32),\n",
    "            nn.ReLU(),\n",
    "            nn.Dropout(p=0.5),\n",
    "        )    \n",
    "        \n",
    "        self.fc2 = nn.Sequential(\n",
    "            nn.Linear(32, 1),\n",
    "            nn.Sigmoid()\n",
    "        )\n",
    "        \n",
    "    def forward(self,x):\n",
    "        x, indices1 = self.conv1(x)\n",
    "        x, indices2 = self.conv2(x)\n",
    "        x, indices3 = self.conv3(x)\n",
    "        x = x.view(x.size(0), -1)\n",
    "        x = self.fc1(x)\n",
    "        x = self.fc2(x)\n",
    "        return x"
   ]
  },
  {
   "cell_type": "code",
   "execution_count": null,
   "id": "a54debe8",
   "metadata": {},
   "outputs": [],
   "source": [
    "model = NNModel()\n",
    "model"
   ]
  },
  {
   "cell_type": "code",
   "execution_count": null,
   "id": "4d67f68a",
   "metadata": {},
   "outputs": [],
   "source": [
    "summary(model,input_size=(3, 28,28), batch_size=16)"
   ]
  },
  {
   "cell_type": "code",
   "execution_count": null,
   "id": "be183f21",
   "metadata": {},
   "outputs": [],
   "source": [
    "x = torch.randn(16,3,28,28)\n",
    "y = model(x)\n",
    "print(\"====>\",x.shape,y.shape)"
   ]
  },
  {
   "cell_type": "code",
   "execution_count": null,
   "id": "6daea791",
   "metadata": {},
   "outputs": [],
   "source": [
    "for name,param in model.named_parameters():\n",
    "    print(name,\"\\t\", param.shape)"
   ]
  },
  {
   "cell_type": "code",
   "execution_count": null,
   "id": "f5f3d318",
   "metadata": {},
   "outputs": [],
   "source": []
  },
  {
   "cell_type": "code",
   "execution_count": null,
   "id": "f7baa8c5",
   "metadata": {},
   "outputs": [],
   "source": []
  },
  {
   "cell_type": "code",
   "execution_count": null,
   "id": "450f44d3",
   "metadata": {},
   "outputs": [],
   "source": []
  },
  {
   "cell_type": "code",
   "execution_count": null,
   "id": "98ec59b7",
   "metadata": {},
   "outputs": [],
   "source": [
    "m = nn.ConvTranspose2d(16, 3, 3, stride=2)\n",
    "x = torch.randn(20, 16, 5, 5)\n",
    "y = m(x)\n",
    "x.shape,y.shape"
   ]
  },
  {
   "cell_type": "code",
   "execution_count": null,
   "id": "520103f0",
   "metadata": {},
   "outputs": [],
   "source": [
    "pool = nn.MaxPool2d(2, 2, return_indices=True)\n",
    "unpool = nn.MaxUnpool2d(2, 2)\n",
    "\n",
    "print(\"x:\",x.shape)\n",
    "out1, indices = pool(x)\n",
    "print(\"pool1 x:\",out1.shape, \"idx:\",indices.shape)\n",
    "out2 = unpool(out1, indices)\n",
    "print(\"unpool1 x:\",out2.shape)"
   ]
  },
  {
   "cell_type": "code",
   "execution_count": null,
   "id": "4f73bec2",
   "metadata": {},
   "outputs": [],
   "source": [
    "x = torch.rand(2, 6, 7, 7)\n",
    "pool = nn.MaxPool2d(2, 2,padding=1, return_indices=True)\n",
    "unpool = nn.MaxUnpool2d(2, 2)\n",
    "\n",
    "out, indices = pool(x)\n",
    "out = unpool(out, indices)"
   ]
  },
  {
   "cell_type": "code",
   "execution_count": null,
   "id": "b66c390c",
   "metadata": {},
   "outputs": [],
   "source": [
    "self.convT1 = nn.Sequential(\n",
    "            nn.ConvTranspose2d( in_channels=12, out_channels=6, kernel_size=3),\n",
    "            nn.ReLU(),\n",
    "        )\n",
    "        \n",
    "        self.unpool1 = nn.MaxUnpool2d(2, stride=2)"
   ]
  },
  {
   "cell_type": "code",
   "execution_count": null,
   "id": "2f6a94e7",
   "metadata": {},
   "outputs": [],
   "source": []
  },
  {
   "cell_type": "code",
   "execution_count": null,
   "id": "a99b3794",
   "metadata": {},
   "outputs": [],
   "source": []
  },
  {
   "cell_type": "code",
   "execution_count": null,
   "id": "7c3532a7",
   "metadata": {},
   "outputs": [],
   "source": []
  },
  {
   "cell_type": "code",
   "execution_count": null,
   "id": "630bb175",
   "metadata": {},
   "outputs": [],
   "source": [
    "class CatsVsDogsModel(nn.Module):\n",
    "    def __init__(self):\n",
    "        super(CatsVsDogsModel, self).__init__()\n",
    "\n",
    "        self.cnn_model = nn.Sequential(\n",
    "            nn.Conv2d(3, 16, 3),\n",
    "            nn.ReLU(),\n",
    "            nn.MaxPool2d(2, 2),\n",
    "            nn.Conv2d(16, 32, 3),\n",
    "            nn.ReLU(),\n",
    "            nn.MaxPool2d(2, 2),\n",
    "            nn.Conv2d(32, 64, 3),\n",
    "            nn.ReLU(),\n",
    "            nn.MaxPool2d(2, 2)\n",
    "        )\n",
    "\n",
    "        self.fc_model = nn.Sequential(\n",
    "            nn.Linear(64 * 26 * 26, 64),\n",
    "            nn.ReLU(),\n",
    "            nn.Dropout(p=0.5),\n",
    "            nn.Linear(64, 1),\n",
    "            nn.Sigmoid()\n",
    "        )\n",
    "\n",
    "    def forward(self, x):\n",
    "        x = self.cnn_model(x)\n",
    "        x = x.view(x.size(0), -1)\n",
    "        x = self.fc_model(x)\n",
    "        return x"
   ]
  },
  {
   "cell_type": "code",
   "execution_count": null,
   "id": "7eb7e9c2",
   "metadata": {},
   "outputs": [],
   "source": [
    "c = CatsVsDogsModel()\n",
    "c.load_state_dict(torch.load(\"./model_CNN.pt\"))\n",
    "c.eval()"
   ]
  },
  {
   "cell_type": "code",
   "execution_count": null,
   "id": "e10b07f7",
   "metadata": {},
   "outputs": [],
   "source": []
  },
  {
   "cell_type": "code",
   "execution_count": null,
   "id": "91bd0709",
   "metadata": {},
   "outputs": [],
   "source": []
  },
  {
   "cell_type": "code",
   "execution_count": null,
   "id": "5e7b8eff",
   "metadata": {},
   "outputs": [],
   "source": []
  },
  {
   "cell_type": "code",
   "execution_count": null,
   "id": "ea029cf5",
   "metadata": {},
   "outputs": [],
   "source": []
  },
  {
   "cell_type": "code",
   "execution_count": null,
   "id": "d15014d1",
   "metadata": {},
   "outputs": [],
   "source": []
  },
  {
   "cell_type": "code",
   "execution_count": null,
   "id": "735d6adf",
   "metadata": {},
   "outputs": [],
   "source": []
  },
  {
   "cell_type": "code",
   "execution_count": null,
   "id": "852e9529",
   "metadata": {},
   "outputs": [],
   "source": []
  },
  {
   "cell_type": "code",
   "execution_count": null,
   "id": "9c9ee81a",
   "metadata": {},
   "outputs": [],
   "source": []
  },
  {
   "cell_type": "code",
   "execution_count": null,
   "id": "45ab7a47",
   "metadata": {},
   "outputs": [],
   "source": []
  },
  {
   "cell_type": "code",
   "execution_count": 102,
   "id": "6cf05d01",
   "metadata": {},
   "outputs": [],
   "source": [
    "class BaseUNetModel(nn.Module):\n",
    "    def __init__(self):\n",
    "        super(BaseUNetModel,self).__init__()\n",
    "        self.down_conv_layer_1 = nn.Sequential(\n",
    "            nn.Conv2d(1, 64 , kernel_size=4, stride=2, padding=1),\n",
    "            nn.LeakyReLU(0.2),\n",
    "        )        \n",
    " \n",
    "        self.down_conv_layer_2 = nn.Sequential(\n",
    "            nn.Conv2d(64, 128 , kernel_size=4, stride=2, padding=1),\n",
    "            nn.LeakyReLU(0.2),\n",
    "            nn.InstanceNorm2d(128)\n",
    "        ) \n",
    "    \n",
    "        self.down_conv_layer_3 = nn.Sequential(\n",
    "            nn.Conv2d(128, 256 , kernel_size=4, stride=2, padding=1),\n",
    "            nn.LeakyReLU(0.2),\n",
    "            nn.InstanceNorm2d(128)\n",
    "        ) \n",
    "        \n",
    "        self.down_conv_layer_4 = nn.Sequential(\n",
    "            nn.Conv2d(256, 256 , kernel_size=4, stride=2, padding=1),\n",
    "            nn.LeakyReLU(0.2),\n",
    "            nn.InstanceNorm2d(128),\n",
    "            nn.Dropout(0.5),   \n",
    "        ) \n",
    "        \n",
    "        self.up_conv_layer_1 = nn.Sequential(\n",
    "            nn.ConvTranspose2d(256, 256, kernel_size=(4,5), stride=2, padding=1),\n",
    "            nn.InstanceNorm2d(256),\n",
    "            nn.ReLU(), \n",
    "            nn.Dropout(0.5), \n",
    "        )\n",
    "        \n",
    "        self.up_conv_layer_2 = nn.Sequential(\n",
    "            nn.ConvTranspose2d(512, 128, kernel_size=4, stride=2, padding=1),\n",
    "            nn.InstanceNorm2d(128),\n",
    "            nn.ReLU(), \n",
    "            nn.Dropout(0.5), \n",
    "        )\n",
    "        \n",
    "        self.up_conv_layer_3 = nn.Sequential(\n",
    "            nn.ConvTranspose2d(256, 64, kernel_size=(4,5), stride=2, padding=1),\n",
    "            nn.InstanceNorm2d(64),\n",
    "            nn.ReLU(), \n",
    "        )\n",
    "                \n",
    "        self.upsample_layer = nn.Upsample(scale_factor=2)\n",
    "        self.zero_pad = nn.ZeroPad2d((1, 0, 1, 0))\n",
    "        self.conv_layer_final = nn.Conv2d(128, 1, kernel_size=2,stride=1, padding=0)\n",
    "        \n",
    "        \n",
    "    def forward(self,x):\n",
    "        print('x', x.shape)\n",
    "        enc1 = self.down_conv_layer_1(x) # [4, 64, 32, 469]\n",
    "        print('1', enc1.shape)\n",
    "        enc2 = self.down_conv_layer_2(enc1) # [4, 128, 16, 234]\n",
    "        print('2', enc2.shape)\n",
    "        enc3 = self.down_conv_layer_3(enc2) # [4, 256, 8, 117]\n",
    "        print('3', enc3.shape)\n",
    "        enc4 = self.down_conv_layer_4(enc3) # [4, 256, 4, 58]\n",
    "        print('4', enc4.shape)\n",
    "        print(\"only up.....\")\n",
    "        \n",
    "        dec1 = self.up_conv_layer_1(enc4)\n",
    "        print('d1', dec1.shape) # [4, 256, 8, 117]\n",
    "                 \n",
    "        dec13 = torch.cat((dec1, enc3), 1)\n",
    "        print('d13', dec13.shape) #[4, 512, 8, 117]\n",
    "        \n",
    "        dec2 = self.up_conv_layer_2(dec13)\n",
    "        print('d2', dec2.shape) # [4, 128, 16, 234]\n",
    "                 \n",
    "        dec22 = torch.cat((dec2, enc2), 1)\n",
    "        print('d22', dec22.shape) #[4, 256, 16, 234]\n",
    "        \n",
    "        dec3 = self.up_conv_layer_3(dec22)\n",
    "        print('d3', dec3.shape) # [4, 256, 16, 234]\n",
    "                 \n",
    "        dec31 = torch.cat((dec3, enc1), 1)\n",
    "        print('d31', dec31.shape) #[4, 256, 16, 234]\n",
    "        \n",
    "        final = self.upsample_layer(dec31)\n",
    "        final = self.zero_pad(final)\n",
    "        final = self.conv_layer_final(final)\n",
    "\n",
    "        print(final.shape)\n",
    "        return final"
   ]
  },
  {
   "cell_type": "code",
   "execution_count": 100,
   "id": "72a747cb",
   "metadata": {},
   "outputs": [],
   "source": [
    "model = BaseUNetModel()"
   ]
  },
  {
   "cell_type": "code",
   "execution_count": 101,
   "id": "f6026068",
   "metadata": {},
   "outputs": [
    {
     "name": "stdout",
     "output_type": "stream",
     "text": [
      "x torch.Size([2, 1, 64, 938])\n",
      "1 torch.Size([2, 64, 32, 469])\n",
      "2 torch.Size([2, 128, 16, 234])\n",
      "3 torch.Size([2, 256, 8, 117])\n",
      "4 torch.Size([2, 256, 4, 58])\n",
      "only up.....\n",
      "d1 torch.Size([2, 256, 8, 117])\n",
      "d13 torch.Size([2, 512, 8, 117])\n",
      "d2 torch.Size([2, 128, 16, 234])\n",
      "d22 torch.Size([2, 256, 16, 234])\n",
      "d3 torch.Size([2, 64, 32, 469])\n",
      "d31 torch.Size([2, 128, 32, 469])\n",
      "torch.Size([2, 1, 64, 938])\n",
      "----------------------------------------------------------------\n",
      "        Layer (type)               Output Shape         Param #\n",
      "================================================================\n",
      "            Conv2d-1          [64, 64, 32, 469]           1,088\n",
      "         LeakyReLU-2          [64, 64, 32, 469]               0\n",
      "            Conv2d-3         [64, 128, 16, 234]         131,200\n",
      "         LeakyReLU-4         [64, 128, 16, 234]               0\n",
      "    InstanceNorm2d-5         [64, 128, 16, 234]               0\n",
      "            Conv2d-6          [64, 256, 8, 117]         524,544\n",
      "         LeakyReLU-7          [64, 256, 8, 117]               0\n",
      "    InstanceNorm2d-8          [64, 256, 8, 117]               0\n",
      "            Conv2d-9           [64, 256, 4, 58]       1,048,832\n",
      "        LeakyReLU-10           [64, 256, 4, 58]               0\n",
      "   InstanceNorm2d-11           [64, 256, 4, 58]               0\n",
      "          Dropout-12           [64, 256, 4, 58]               0\n",
      "  ConvTranspose2d-13          [64, 256, 8, 117]       1,310,976\n",
      "   InstanceNorm2d-14          [64, 256, 8, 117]               0\n",
      "             ReLU-15          [64, 256, 8, 117]               0\n",
      "          Dropout-16          [64, 256, 8, 117]               0\n",
      "  ConvTranspose2d-17         [64, 128, 16, 234]       1,048,704\n",
      "   InstanceNorm2d-18         [64, 128, 16, 234]               0\n",
      "             ReLU-19         [64, 128, 16, 234]               0\n",
      "          Dropout-20         [64, 128, 16, 234]               0\n",
      "  ConvTranspose2d-21          [64, 64, 32, 469]         327,744\n",
      "   InstanceNorm2d-22          [64, 64, 32, 469]               0\n",
      "             ReLU-23          [64, 64, 32, 469]               0\n",
      "         Upsample-24         [64, 128, 64, 938]               0\n",
      "        ZeroPad2d-25         [64, 128, 65, 939]               0\n",
      "           Conv2d-26           [64, 1, 64, 938]             513\n",
      "================================================================\n",
      "Total params: 4,393,601\n",
      "Trainable params: 4,393,601\n",
      "Non-trainable params: 0\n",
      "----------------------------------------------------------------\n",
      "Input size (MB): 14.66\n",
      "Forward/backward pass size (MB): 12514.00\n",
      "Params size (MB): 16.76\n",
      "Estimated Total Size (MB): 12545.42\n",
      "----------------------------------------------------------------\n"
     ]
    }
   ],
   "source": [
    "summary(model,input_size=(1, 64,938), batch_size=64)"
   ]
  },
  {
   "cell_type": "code",
   "execution_count": null,
   "id": "3c5bb9bd",
   "metadata": {},
   "outputs": [],
   "source": []
  },
  {
   "cell_type": "code",
   "execution_count": null,
   "id": "a0fa4e15",
   "metadata": {},
   "outputs": [],
   "source": []
  }
 ],
 "metadata": {
  "hide_input": false,
  "kernelspec": {
   "display_name": "Python 3 (ipykernel)",
   "language": "python",
   "name": "python3"
  },
  "language_info": {
   "codemirror_mode": {
    "name": "ipython",
    "version": 3
   },
   "file_extension": ".py",
   "mimetype": "text/x-python",
   "name": "python",
   "nbconvert_exporter": "python",
   "pygments_lexer": "ipython3",
   "version": "3.9.18"
  },
  "latex_envs": {
   "LaTeX_envs_menu_present": true,
   "autoclose": false,
   "autocomplete": true,
   "bibliofile": "biblio.bib",
   "cite_by": "apalike",
   "current_citInitial": 1,
   "eqLabelWithNumbers": true,
   "eqNumInitial": 1,
   "hotkeys": {
    "equation": "Ctrl-E",
    "itemize": "Ctrl-I"
   },
   "labels_anchors": false,
   "latex_user_defs": false,
   "report_style_numbering": false,
   "user_envs_cfg": false
  },
  "toc": {
   "base_numbering": 1,
   "nav_menu": {},
   "number_sections": true,
   "sideBar": true,
   "skip_h1_title": false,
   "title_cell": "Table of Contents",
   "title_sidebar": "Contents",
   "toc_cell": false,
   "toc_position": {},
   "toc_section_display": true,
   "toc_window_display": false
  },
  "varInspector": {
   "cols": {
    "lenName": 16,
    "lenType": 16,
    "lenVar": 40
   },
   "kernels_config": {
    "python": {
     "delete_cmd_postfix": "",
     "delete_cmd_prefix": "del ",
     "library": "var_list.py",
     "varRefreshCmd": "print(var_dic_list())"
    },
    "r": {
     "delete_cmd_postfix": ") ",
     "delete_cmd_prefix": "rm(",
     "library": "var_list.r",
     "varRefreshCmd": "cat(var_dic_list()) "
    }
   },
   "types_to_exclude": [
    "module",
    "function",
    "builtin_function_or_method",
    "instance",
    "_Feature"
   ],
   "window_display": false
  }
 },
 "nbformat": 4,
 "nbformat_minor": 5
}
